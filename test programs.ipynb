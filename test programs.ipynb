{
 "cells": [
  {
   "cell_type": "code",
   "execution_count": 24,
   "metadata": {},
   "outputs": [
    {
     "name": "stdout",
     "output_type": "stream",
     "text": [
      "1 is not prime\n",
      "2 is prime\n",
      "3 is prime\n",
      "4 is not prime\n",
      "5 is prime\n",
      "6 is not prime\n",
      "7 is prime\n",
      "8 is not prime\n",
      "9 is not prime\n",
      "10 is not prime\n",
      "11 is prime\n",
      "12 is not prime\n",
      "13 is prime\n",
      "14 is not prime\n",
      "15 is not prime\n",
      "16 is not prime\n",
      "17 is prime\n",
      "18 is not prime\n",
      "19 is prime\n",
      "20 is not prime\n",
      "21 is not prime\n",
      "22 is not prime\n",
      "23 is prime\n",
      "24 is not prime\n",
      "25 is not prime\n",
      "26 is not prime\n",
      "27 is not prime\n",
      "28 is not prime\n",
      "29 is prime\n",
      "30 is not prime\n",
      "31 is prime\n",
      "32 is not prime\n",
      "33 is not prime\n",
      "34 is not prime\n",
      "35 is not prime\n",
      "36 is not prime\n",
      "37 is prime\n",
      "38 is not prime\n",
      "39 is not prime\n",
      "40 is not prime\n",
      "41 is prime\n",
      "42 is not prime\n",
      "43 is prime\n",
      "44 is not prime\n",
      "45 is not prime\n",
      "46 is not prime\n",
      "47 is prime\n",
      "48 is not prime\n",
      "49 is not prime\n"
     ]
    }
   ],
   "source": [
    "for i in range(1,50):\n",
    "    count = 0\n",
    "    for j in range(1,i+1):\n",
    "        if i%j == 0:\n",
    "            count +=1\n",
    "    if(count == 2):\n",
    "        print(f'{i} is prime')\n",
    "    else:\n",
    "        print(f'{i} is not prime')"
   ]
  },
  {
   "cell_type": "code",
   "execution_count": 2,
   "metadata": {},
   "outputs": [
    {
     "name": "stdout",
     "output_type": "stream",
     "text": [
      "151 is prime\n",
      "157 is prime\n",
      "163 is prime\n",
      "167 is prime\n",
      "173 is prime\n",
      "179 is prime\n"
     ]
    }
   ],
   "source": [
    "i = 150\n",
    "while i <181:\n",
    "    count = 0\n",
    "    j =1\n",
    "    while j < i+1:\n",
    "        if i % j == 0:\n",
    "            count +=1\n",
    "        j+=1\n",
    "    if count == 2:\n",
    "        print(f\"{i} is prime\")\n",
    "    i +=1"
   ]
  },
  {
   "cell_type": "code",
   "execution_count": 40,
   "metadata": {},
   "outputs": [
    {
     "name": "stdout",
     "output_type": "stream",
     "text": [
      "not prime\n"
     ]
    }
   ],
   "source": [
    "#Prime number\n",
    "n= 217\n",
    "if n>1:\n",
    "    for i in range(2,n):\n",
    "        if n%i ==0:\n",
    "            print('not prime')\n",
    "            break\n",
    "    else:\n",
    "            print('is prime')\n",
    "else:\n",
    "     print('Enter a number greater than 1')\n",
    "     "
   ]
  },
  {
   "cell_type": "code",
   "execution_count": 41,
   "metadata": {},
   "outputs": [
    {
     "name": "stdout",
     "output_type": "stream",
     "text": [
      "F\n"
     ]
    }
   ],
   "source": [
    "#decimal to hexa\n",
    "num = 15\n",
    "result = ''\n",
    "while(num>0):\n",
    "    v = int(num%16)\n",
    "    if v>9:\n",
    "        v = chr(v+55)\n",
    "    result =str(v) + result\n",
    "    num = int(num/16)\n",
    "print(result)"
   ]
  },
  {
   "cell_type": "code",
   "execution_count": null,
   "metadata": {},
   "outputs": [],
   "source": [
    "#decimal to octa\n",
    "num=10\n",
    "result=''\n",
    "while(num>0):\n",
    "    v= int(num%8)\n",
    "    result=str(v)+result\n",
    "    num=int(num/8)\n",
    "print(result)"
   ]
  },
  {
   "cell_type": "code",
   "execution_count": 5,
   "metadata": {},
   "outputs": [
    {
     "name": "stdout",
     "output_type": "stream",
     "text": [
      "10\n"
     ]
    }
   ],
   "source": [
    "#Octal to decimal\n",
    "num=0o12\n",
    "result=''\n",
    "while(num>0):\n",
    "    v= int(num%10)\n",
    "    result=str(v)+result\n",
    "    num=int(num/10)\n",
    "print(result)"
   ]
  },
  {
   "cell_type": "code",
   "execution_count": 6,
   "metadata": {},
   "outputs": [
    {
     "name": "stdout",
     "output_type": "stream",
     "text": [
      "1100100\n"
     ]
    }
   ],
   "source": [
    "#Decimal to binary\n",
    "num = 100\n",
    "result =''\n",
    "while(num>0):\n",
    "    v = int(num%2)\n",
    "    result = str(v) + result\n",
    "    num = int(num/2)\n",
    "print(result)"
   ]
  },
  {
   "cell_type": "code",
   "execution_count": 43,
   "metadata": {},
   "outputs": [
    {
     "name": "stdout",
     "output_type": "stream",
     "text": [
      "The Fibonacci series is:\n",
      "0\n",
      "1\n",
      "1\n",
      "2\n",
      "3\n"
     ]
    }
   ],
   "source": [
    "#Fibonacci series\n",
    "num_terms = int(input(\"Enter the number of terms: \"))\n",
    "a, b = 0, 1\n",
    "print(\"The Fibonacci series is:\")\n",
    "for i in range(num_terms):\n",
    "    print(a)\n",
    "    # Calculate the next term in the series\n",
    "    a, b = b, a + b"
   ]
  },
  {
   "cell_type": "code",
   "execution_count": 58,
   "metadata": {},
   "outputs": [
    {
     "name": "stdout",
     "output_type": "stream",
     "text": [
      "The facorial of 5 is 120\n"
     ]
    }
   ],
   "source": [
    "#FActorial using recursion\n",
    "def factorial(num):\n",
    "    if num == 0:\n",
    "        return 1\n",
    "    else:\n",
    "        return num * factorial(num-1)\n",
    "\n",
    "print(\"The facorial of\",num,\"is\",factorial(5))"
   ]
  },
  {
   "cell_type": "code",
   "execution_count": 60,
   "metadata": {},
   "outputs": [
    {
     "name": "stdout",
     "output_type": "stream",
     "text": [
      "The factorial of 5 is 120\n"
     ]
    }
   ],
   "source": [
    "#FActorial without recursion\n",
    "num = 5\n",
    "\n",
    "factorial = 1\n",
    "for i in range(1, num + 1):\n",
    "    factorial *= i\n",
    "\n",
    "print(\"The factorial of\", num, \"is\", factorial)"
   ]
  },
  {
   "cell_type": "code",
   "execution_count": 63,
   "metadata": {},
   "outputs": [
    {
     "name": "stdout",
     "output_type": "stream",
     "text": [
      "The GCD of 50 and 60 is 10\n"
     ]
    }
   ],
   "source": [
    "#GCD\n",
    "def gcd(a, b):\n",
    "    if b == 0:\n",
    "        return a\n",
    "    else:\n",
    "        return gcd(b, a % b)\n",
    "\n",
    "num1 = int(input(\"Enter the first number: \"))\n",
    "num2 = int(input(\"Enter the second number: \"))\n",
    "\n",
    "result = gcd(num1, num2)\n",
    "print(\"The GCD of\", num1, \"and\", num2, \"is\", result)"
   ]
  },
  {
   "cell_type": "code",
   "execution_count": 66,
   "metadata": {},
   "outputs": [
    {
     "name": "stdout",
     "output_type": "stream",
     "text": [
      "heeh is a palindrome\n"
     ]
    }
   ],
   "source": [
    "#Palindrome using slicing\n",
    "def is_palindrome(s):\n",
    "    return s == s[::-1]\n",
    "\n",
    "word = input(\"Enter a word: \")\n",
    "if is_palindrome(word):\n",
    "    print(word, \"is a palindrome\")\n",
    "else:\n",
    "    print(word, \"is not a palindrome\")"
   ]
  },
  {
   "cell_type": "code",
   "execution_count": null,
   "metadata": {},
   "outputs": [],
   "source": [
    "#Palindrome using for loop\n",
    "def is_palindrome(s):\n",
    "    i, j = 0, len(s) - 1\n",
    "    while i < j:\n",
    "        if s[i] != s[j]:\n",
    "            return False\n",
    "        i += 1\n",
    "        j -= 1\n",
    "    return True\n",
    "\n",
    "word = input(\"Enter a word: \")\n",
    "if is_palindrome(word):\n",
    "    print(word, \"is a palindrome\")\n",
    "else:\n",
    "    print(word, \"is not a palindrome\")"
   ]
  },
  {
   "cell_type": "code",
   "execution_count": null,
   "metadata": {},
   "outputs": [],
   "source": [
    "#Palindrome using reverse function\n",
    "def is_palindrome(s):\n",
    "    return s == \"\".join(reversed(s))\n",
    "\n",
    "word = input(\"Enter a word: \")\n",
    "if is_palindrome(word):\n",
    "    print(word, \"is a palindrome\")\n",
    "else:\n",
    "    print(word, \"is not a palindrome\")"
   ]
  },
  {
   "cell_type": "code",
   "execution_count": 93,
   "metadata": {},
   "outputs": [
    {
     "name": "stdout",
     "output_type": "stream",
     "text": [
      "The sum of the digits of 123 is: 6\n"
     ]
    }
   ],
   "source": [
    "#Sum of digits using recursion\n",
    "def sum_of_digits(n):\n",
    "    # Base case: if n is a single-digit number\n",
    "    if n == 0:\n",
    "        return 0\n",
    "    else:\n",
    "        # Recursive case: sum the last digit and the sum of the remaining digits\n",
    "        return (n % 10) + sum_of_digits(n // 10)\n",
    "\n",
    "# Input from the user\n",
    "number = int(input(\"Enter a number: \"))\n",
    "\n",
    "# Call the recursive function and print the result\n",
    "result = sum_of_digits(number)\n",
    "print(f\"The sum of the digits of {number} is: {result}\")"
   ]
  },
  {
   "cell_type": "code",
   "execution_count": 73,
   "metadata": {},
   "outputs": [
    {
     "data": {
      "text/plain": [
       "12"
      ]
     },
     "execution_count": 73,
     "metadata": {},
     "output_type": "execute_result"
    }
   ],
   "source": [
    "123//10"
   ]
  },
  {
   "cell_type": "code",
   "execution_count": 74,
   "metadata": {},
   "outputs": [
    {
     "name": "stdout",
     "output_type": "stream",
     "text": [
      "List after removing duplicates: [1, 2, 4, 5, 6]\n"
     ]
    }
   ],
   "source": [
    "# Input list from the user\n",
    "numbers = [int(x) for x in input(\"Enter numbers separated by spaces: \").split()]\n",
    "\n",
    "# Create an empty list to store unique values\n",
    "unique_numbers = []\n",
    "\n",
    "# Iterate through the original list\n",
    "for num in numbers:\n",
    "    # If the number is not already in the unique_numbers list, add it\n",
    "    if num not in unique_numbers:\n",
    "        unique_numbers.append(num)\n",
    "\n",
    "# Output the list with duplicates removed\n",
    "print(\"List after removing duplicates:\", unique_numbers)\n"
   ]
  },
  {
   "cell_type": "code",
   "execution_count": 91,
   "metadata": {},
   "outputs": [
    {
     "name": "stdout",
     "output_type": "stream",
     "text": [
      "First half: [1, 2, 3]\n",
      "Second half: [4, 5, 6]\n"
     ]
    }
   ],
   "source": [
    "#dividing the list into two parts\n",
    "numbers = [int(x) for x in input(\"Enter numbers separated by spaces: \").split()]\n",
    "\n",
    "# Calculate the middle index to split the list\n",
    "middle_index = len(numbers) // 2\n",
    "\n",
    "# Divide the list into two parts\n",
    "first_half = numbers[:middle_index]\n",
    "second_half = numbers[middle_index:]\n",
    "\n",
    "# Output the two parts\n",
    "print(\"First half:\", first_half)\n",
    "print(\"Second half:\", second_half)\n"
   ]
  },
  {
   "cell_type": "code",
   "execution_count": 76,
   "metadata": {},
   "outputs": [
    {
     "name": "stdout",
     "output_type": "stream",
     "text": [
      "Pairs whose sum is equal to 3 are: [(1, 2)]\n"
     ]
    }
   ],
   "source": [
    "#Pairs of numbers whose sum is equal to the given number\n",
    "# Input the array from the user\n",
    "numbers = [int(x) for x in input(\"Enter numbers separated by spaces: \").split()]\n",
    "\n",
    "# Input the target sum\n",
    "target_sum = int(input(\"Enter the target sum: \"))\n",
    "\n",
    "# Initialize an empty list to store the pairs\n",
    "pairs = []\n",
    "\n",
    "# Iterate through the array to find pairs\n",
    "for i in range(len(numbers)):\n",
    "    for j in range(i + 1, len(numbers)):\n",
    "        if numbers[i] + numbers[j] == target_sum:\n",
    "            pairs.append((numbers[i], numbers[j]))\n",
    "\n",
    "# Output the result\n",
    "if pairs:\n",
    "    print(\"Pairs whose sum is equal to\", target_sum, \"are:\", pairs)\n",
    "else:\n",
    "    print(\"No pairs found with sum equal to\", target_sum)\n"
   ]
  },
  {
   "cell_type": "code",
   "execution_count": 85,
   "metadata": {},
   "outputs": [
    {
     "name": "stdout",
     "output_type": "stream",
     "text": [
      "The strings are anagrams.\n"
     ]
    }
   ],
   "source": [
    "# Input two strings from the user\n",
    "str1 = input(\"Enter the first string: \").replace(\" \", \"\").lower()\n",
    "str2 = input(\"Enter the second string: \").replace(\" \", \"\").lower()\n",
    "\n",
    "# Check if the sorted characters of both strings are equal\n",
    "if sorted(str1) == sorted(str2):\n",
    "    print(\"The strings are anagrams.\")\n",
    "else:\n",
    "    print(\"The strings are not anagrams.\")\n"
   ]
  },
  {
   "cell_type": "code",
   "execution_count": 90,
   "metadata": {},
   "outputs": [
    {
     "name": "stdout",
     "output_type": "stream",
     "text": [
      "List of substrings: ['f', 'iz']\n"
     ]
    }
   ],
   "source": [
    "#Split the string\n",
    "text = input(\"Enter a string: \")\n",
    "\n",
    "letter = input(\"Enter the letter from where to split: \")\n",
    "\n",
    "split_list = text.split(letter)\n",
    "\n",
    "print(\"List of substrings:\", split_list)\n"
   ]
  }
 ],
 "metadata": {
  "kernelspec": {
   "display_name": "Python 3",
   "language": "python",
   "name": "python3"
  },
  "language_info": {
   "codemirror_mode": {
    "name": "ipython",
    "version": 3
   },
   "file_extension": ".py",
   "mimetype": "text/x-python",
   "name": "python",
   "nbconvert_exporter": "python",
   "pygments_lexer": "ipython3",
   "version": "3.11.9"
  }
 },
 "nbformat": 4,
 "nbformat_minor": 2
}
